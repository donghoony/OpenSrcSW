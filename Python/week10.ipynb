{
  "nbformat": 4,
  "nbformat_minor": 0,
  "metadata": {
    "colab": {
      "name": "Untitled10.ipynb",
      "provenance": [],
      "collapsed_sections": []
    },
    "kernelspec": {
      "name": "python3",
      "display_name": "Python 3"
    },
    "language_info": {
      "name": "python"
    }
  },
  "cells": [
    {
      "cell_type": "code",
      "execution_count": 40,
      "metadata": {
        "colab": {
          "base_uri": "https://localhost:8080/"
        },
        "id": "a4SZXFvdLEzC",
        "outputId": "0c754ea3-c398-4f7d-80ae-432e580e9a2b"
      },
      "outputs": [
        {
          "output_type": "stream",
          "name": "stdout",
          "text": [
            "y=26.73\n"
          ]
        }
      ],
      "source": [
        "x = float(input(\"x=\"))\n",
        "f = lambda x: 3*x**2+5*x+3\n",
        "print(f\"y={f(x):.2f}\")"
      ]
    },
    {
      "cell_type": "code",
      "source": [
        "PI = 3.14\n",
        "r = float(input(\"r=\"))\n",
        "print(f\"반지름 {r:.1f}인 원의 넓이는 {r**2*PI:.1f}이고 둘레는 {2*PI*r:.1f}입니다.\")"
      ],
      "metadata": {
        "colab": {
          "base_uri": "https://localhost:8080/"
        },
        "id": "FlehpONILWgu",
        "outputId": "f489ceec-79b1-46b0-be40-7165a20664c8"
      },
      "execution_count": 41,
      "outputs": [
        {
          "output_type": "stream",
          "name": "stdout",
          "text": [
            "반지름 1.0인 원의 넓이는 3.1이고 둘레는 6.3입니다.\n"
          ]
        }
      ]
    },
    {
      "cell_type": "code",
      "source": [
        "kor = int(input(\"국어 = \"))\n",
        "eng = int(input(\"영어 = \"))\n",
        "math = int(input(\"수학 = \"))\n",
        "avg = (kor+eng+math)/3\n",
        "grade = \"FFFFFFDCBAA\"[int(avg)//10] if all([0<=x<=100 for x in (kor, eng, math)]) else \"NA\"\n",
        "print(f\"평균은 {avg:.1f}이며, 등급은 {grade}입니다.\")"
      ],
      "metadata": {
        "colab": {
          "base_uri": "https://localhost:8080/"
        },
        "id": "TuwkCVAXLsy1",
        "outputId": "bfd4ec38-9441-4271-dd0c-3491c3f8ad1b"
      },
      "execution_count": 43,
      "outputs": [
        {
          "output_type": "stream",
          "name": "stdout",
          "text": [
            "국어 = 50\n",
            "영어 = 70\n",
            "수학 = 90\n",
            "평균은 70.0이며, 등급은 C입니다.\n"
          ]
        }
      ]
    },
    {
      "cell_type": "code",
      "source": [
        "lines = int(input(\"Lines=\"))\n",
        "for i in range(lines):\n",
        "  s = \"\"\n",
        "  for j in range(lines):\n",
        "    s += '1' if i + j == lines-1 or i == j else '0'\n",
        "  print(s)\n",
        "  \n"
      ],
      "metadata": {
        "colab": {
          "base_uri": "https://localhost:8080/"
        },
        "id": "OvN9epd6Nx93",
        "outputId": "efef0d25-0f1a-4822-da02-d90777631734"
      },
      "execution_count": 44,
      "outputs": [
        {
          "output_type": "stream",
          "name": "stdout",
          "text": [
            "Lines=17\n",
            "10000000000000001\n",
            "01000000000000010\n",
            "00100000000000100\n",
            "00010000000001000\n",
            "00001000000010000\n",
            "00000100000100000\n",
            "00000010001000000\n",
            "00000001010000000\n",
            "00000000100000000\n",
            "00000001010000000\n",
            "00000010001000000\n",
            "00000100000100000\n",
            "00001000000010000\n",
            "00010000000001000\n",
            "00100000000000100\n",
            "01000000000000010\n",
            "10000000000000001\n"
          ]
        }
      ]
    },
    {
      "cell_type": "code",
      "source": [
        "N = int(input(\"사람 수 : \"))\n",
        "d = {}\n",
        "for i in range(N):\n",
        "  a = input(\"이름 : \")\n",
        "  b = input(\"전화번호 : \")\n",
        "  d[a] = b\n",
        "\n",
        "def find(book, key):\n",
        "  if key in book:\n",
        "    return book[key]\n",
        "  else:\n",
        "    return \"none\"\n",
        "\n",
        "k = input(\"검색할 이름 : \")\n",
        "print(f\"{k}의 전화번호는 {find(d, k)}입니다.\")"
      ],
      "metadata": {
        "colab": {
          "base_uri": "https://localhost:8080/"
        },
        "id": "fKgYMvp1N0Bm",
        "outputId": "8cedba83-ab23-43e5-9092-175644767e55"
      },
      "execution_count": 45,
      "outputs": [
        {
          "output_type": "stream",
          "name": "stdout",
          "text": [
            "사람 수 : 3\n",
            "이름 : ABC\n",
            "전화번호 : 123-3333\n",
            "이름 : KIM\n",
            "전화번호 : 324-1231\n",
            "이름 : PARK\n",
            "전화번호 : 100-1010\n",
            "검색할 이름 : PARK\n",
            "PARK의 전화번호는 100-1010입니다.\n"
          ]
        }
      ]
    }
  ]
}