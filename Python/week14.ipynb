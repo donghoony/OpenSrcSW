{
  "nbformat": 4,
  "nbformat_minor": 0,
  "metadata": {
    "colab": {
      "name": "Untitled2.ipynb",
      "provenance": [],
      "collapsed_sections": []
    },
    "kernelspec": {
      "name": "python3",
      "display_name": "Python 3"
    },
    "language_info": {
      "name": "python"
    }
  },
  "cells": [
    {
      "cell_type": "code",
      "execution_count": 29,
      "metadata": {
        "colab": {
          "base_uri": "https://localhost:8080/"
        },
        "id": "dLTDN1I8tzai",
        "outputId": "a7acce5c-da6c-4e30-8db5-9d08b1cf2c20"
      },
      "outputs": [
        {
          "output_type": "stream",
          "name": "stdout",
          "text": [
            "        unit price  number\n",
            "store1        1000      25\n",
            "store2         280     120\n",
            "store3         900      30\n",
            "        unit price  number  total price\n",
            "store1        1000      25        25000\n",
            "store2         280     120        33600\n",
            "store3         900      30        27000\n",
            "        unit price  number  total price\n",
            "store2         280     120        33600\n"
          ]
        }
      ],
      "source": [
        "import numpy as np\n",
        "import pandas as pd\n",
        "df = pd.DataFrame([[1000, 25], [280, 120], [900, 30]], index=[\"store1\", \"store2\", \"store3\"], columns=[\"unit price\", \"number\"])\n",
        "print(df)\n",
        "df[\"total price\"] = df[\"unit price\"] * df[\"number\"]\n",
        "print(df)\n",
        "print(df.iloc[[df[\"total price\"].argmax()]])"
      ]
    }
  ]
}