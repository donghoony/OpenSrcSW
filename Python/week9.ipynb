{
 "cells": [
  {
   "cell_type": "code",
   "execution_count": 1,
   "metadata": {
    "collapsed": true
   },
   "outputs": [
    {
     "data": {
      "text/plain": "(78.5, 31.400000000000002)"
     },
     "execution_count": 1,
     "metadata": {},
     "output_type": "execute_result"
    }
   ],
   "source": [
    "import math\n",
    "# PI = math.atan(-1) * -4\n",
    "PI = 3.14\n",
    "r = 5\n",
    "area = PI * r * r\n",
    "circum = PI * 2 * r\n",
    "area, circum"
   ]
  },
  {
   "cell_type": "code",
   "execution_count": 2,
   "outputs": [
    {
     "data": {
      "text/plain": "((3+4j), True)"
     },
     "execution_count": 2,
     "metadata": {},
     "output_type": "execute_result"
    }
   ],
   "source": [
    "a = 1 + 3j\n",
    "b = 2 + 1j\n",
    "c = a + b\n",
    "d = (c == 3 + 4j)\n",
    "c, d"
   ],
   "metadata": {
    "collapsed": false,
    "pycharm": {
     "name": "#%%\n"
    }
   }
  },
  {
   "cell_type": "code",
   "execution_count": 3,
   "outputs": [
    {
     "data": {
      "text/plain": "([5, 4, 3, 2, 1], ['ghi', 'def', 'abc'])"
     },
     "execution_count": 3,
     "metadata": {},
     "output_type": "execute_result"
    }
   ],
   "source": [
    "nums = [1, 2, 3, 4, 5]\n",
    "strs = ['abc', 'def', 'ghi']\n",
    "nums[::-1], strs[::-1]"
   ],
   "metadata": {
    "collapsed": false,
    "pycharm": {
     "name": "#%%\n"
    }
   }
  },
  {
   "cell_type": "code",
   "execution_count": 4,
   "outputs": [
    {
     "data": {
      "text/plain": "(7, 36)"
     },
     "execution_count": 4,
     "metadata": {},
     "output_type": "execute_result"
    }
   ],
   "source": [
    "# 실습 1번 문제\n",
    "\"\"\"\n",
    "in pythonic way: use divmod instead. it calculates div and mod simultaneously\n",
    "a = 456\n",
    "h = 456//60\n",
    "m = 456%60\n",
    "h, m\n",
    "\"\"\"\n",
    "divmod(456, 60)"
   ],
   "metadata": {
    "collapsed": false,
    "pycharm": {
     "name": "#%%\n"
    }
   }
  },
  {
   "cell_type": "code",
   "execution_count": 5,
   "outputs": [
    {
     "data": {
      "text/plain": "('김철수', 2.8)"
     },
     "execution_count": 5,
     "metadata": {},
     "output_type": "execute_result"
    }
   ],
   "source": [
    "#실습 2번 문제\n",
    "\"\"\"\n",
    "pythonic way : dicts preserve insertion order (python 3.7+) + list comprehension\n",
    "data = d.keys()\n",
    "d_list = sorted(list(data))\n",
    "k = d_list[0]\n",
    "v = d[k]\n",
    "k, v\n",
    "\"\"\"\n",
    "d = {\"홍길동\": 3.4, \"임꺽정\":4.0, \"김철수\":2.8, \"이영희\":3.9}\n",
    "[(k, v) for k, v in sorted(d.items(), key=lambda x: x[1])][0]"
   ],
   "metadata": {
    "collapsed": false,
    "pycharm": {
     "name": "#%%\n"
    }
   }
  }
 ],
 "metadata": {
  "kernelspec": {
   "display_name": "Python 3",
   "language": "python",
   "name": "python3"
  },
  "language_info": {
   "codemirror_mode": {
    "name": "ipython",
    "version": 2
   },
   "file_extension": ".py",
   "mimetype": "text/x-python",
   "name": "python",
   "nbconvert_exporter": "python",
   "pygments_lexer": "ipython2",
   "version": "2.7.6"
  }
 },
 "nbformat": 4,
 "nbformat_minor": 0
}