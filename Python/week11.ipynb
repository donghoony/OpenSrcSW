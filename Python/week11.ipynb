{
 "cells": [
  {
   "cell_type": "code",
   "execution_count": 12,
   "metadata": {
    "collapsed": true
   },
   "outputs": [
    {
     "name": "stdout",
     "output_type": "stream",
     "text": [
      "파이썬 2\n",
      "파일 2\n",
      "읽기 2\n",
      "예제입니다. 2\n",
      "다양한 1\n",
      "메소드를 1\n",
      "공부해 1\n",
      "보세요. 1\n",
      "실력이 1\n",
      "팍팍 1\n",
      "늘 1\n",
      "거예요~ 1\n",
      "단어 1\n",
      "수를 1\n",
      "카운트하는 1\n",
      "실습 1\n"
     ]
    }
   ],
   "source": [
    "from collections import defaultdict\n",
    "words = defaultdict(int)\n",
    "with open(\"README.txt\", \"r\", encoding=\"utf-8\") as f:\n",
    "    for line in f:\n",
    "        for w in line.rstrip().split():\n",
    "            words[w] += 1\n",
    "for word in words:\n",
    "    print(word, words[word])"
   ]
  },
  {
   "cell_type": "code",
   "execution_count": 18,
   "outputs": [
    {
     "name": "stdout",
     "output_type": "stream",
     "text": [
      "p1 : (1, 1)\n",
      "p2 : (4, 5)\n",
      "p1 moved +1, +1\n",
      "p1 : (2, 2)\n",
      "Box : \n",
      "(2, 2)\n",
      "(4, 5)\n",
      "box moved -1, -5\n",
      "box : (1, -3)\n",
      "(3, 0)\n"
     ]
    }
   ],
   "source": [
    "class Point:\n",
    "    def __init__(self, x, y):\n",
    "        self.x = x\n",
    "        self.y = y\n",
    "    def move(self, dx, dy) -> None:\n",
    "        self.x += dx\n",
    "        self.y += dy\n",
    "    def show(self) -> None:\n",
    "        print(f\"({self.x}, {self.y})\")\n",
    "\n",
    "class Box(Point):\n",
    "    def __init__(self, p1: Point, p2: Point):\n",
    "        self.p1 = p1\n",
    "        self.p2 = p2\n",
    "    def move(self, dx, dy) -> None:\n",
    "        self.p1.move(dx, dy)\n",
    "        self.p2.move(dx, dy)\n",
    "    def show(self) -> None:\n",
    "        self.p1.show()\n",
    "        self.p2.show()\n",
    "\n",
    "p1 = Point(1, 1)\n",
    "p2 = Point(4, 5)\n",
    "print(\"p1 : \", end=\"\")\n",
    "p1.show()\n",
    "print(\"p2 : \", end=\"\")\n",
    "p2.show()\n",
    "print(\"p1 moved +1, +1\")\n",
    "p1.move(1, 1)\n",
    "print(\"p1 : \", end=\"\")\n",
    "p1.show()\n",
    "box = Box(p1, p2)\n",
    "print(\"Box : \")\n",
    "box.show()\n",
    "print(\"box moved -1, -5\")\n",
    "print(\"box : \", end=\"\")\n",
    "box.move(-1, -5)\n",
    "box.show()"
   ],
   "metadata": {
    "collapsed": false,
    "pycharm": {
     "name": "#%%\n"
    }
   }
  }
 ],
 "metadata": {
  "kernelspec": {
   "display_name": "Python 3",
   "language": "python",
   "name": "python3"
  },
  "language_info": {
   "codemirror_mode": {
    "name": "ipython",
    "version": 2
   },
   "file_extension": ".py",
   "mimetype": "text/x-python",
   "name": "python",
   "nbconvert_exporter": "python",
   "pygments_lexer": "ipython2",
   "version": "2.7.6"
  },
  "pycharm": {
   "stem_cell": {
    "cell_type": "raw",
    "source": [
     "\n"
    ],
    "metadata": {
     "collapsed": false
    }
   }
  }
 },
 "nbformat": 4,
 "nbformat_minor": 0
}